{
  "nbformat": 4,
  "nbformat_minor": 0,
  "metadata": {
    "colab": {
      "name": "Outfit_MNIST_tutorial.ipynb",
      "version": "0.3.2",
      "provenance": [],
      "include_colab_link": true
    },
    "kernelspec": {
      "name": "python3",
      "display_name": "Python 3"
    },
    "accelerator": "GPU"
  },
  "cells": [
    {
      "cell_type": "markdown",
      "metadata": {
        "id": "view-in-github",
        "colab_type": "text"
      },
      "source": [
        "<a href=\"https://colab.research.google.com/github/AdilZouitine/outfit/blob/master/Outfit_MNIST_tutorial.ipynb\" target=\"_parent\"><img src=\"https://colab.research.google.com/assets/colab-badge.svg\" alt=\"Open In Colab\"/></a>"
      ]
    },
    {
      "cell_type": "code",
      "metadata": {
        "id": "TZ381WcAM1OG",
        "colab_type": "code",
        "outputId": "d6f9e35f-aa15-4298-87e8-c38a2308474f",
        "colab": {
          "base_uri": "https://localhost:8080/",
          "height": 34
        }
      },
      "source": [
        "import sys\n",
        "import datetime\n",
        "\n",
        "import torch\n",
        "import torch.nn as nn\n",
        "import torch.nn.functional as F\n",
        "import torch.optim as optim\n",
        "from torchvision import datasets, transforms\n",
        "from torch.autograd import Variable\n",
        "\n",
        "if torch.cuda.is_available():\n",
        "    device = torch.device('cuda')\n",
        "else:\n",
        "    device = torch.device('cpu')\n",
        "\n",
        "from torchsummary import summary\n",
        "\n",
        "print('Using PyTorch version:', torch.__version__, ' Device:', device)"
      ],
      "execution_count": 4,
      "outputs": [
        {
          "output_type": "stream",
          "text": [
            "Using PyTorch version: 1.1.0  Device: cuda\n"
          ],
          "name": "stdout"
        }
      ]
    },
    {
      "cell_type": "code",
      "metadata": {
        "id": "MgQDPKcOg_Ks",
        "colab_type": "code",
        "outputId": "e524d645-1a42-40f1-e2f1-3b08f5a5b960",
        "colab": {
          "base_uri": "https://localhost:8080/",
          "height": 306
        }
      },
      "source": [
        "! git clone https://github.com/AdilZouitine/outfit\n",
        "% cd outfit\n",
        "! pip install -r requirements.txt\n",
        "! pip install -e .\n",
        "% cd .."
      ],
      "execution_count": 5,
      "outputs": [
        {
          "output_type": "stream",
          "text": [
            "fatal: destination path 'outfit' already exists and is not an empty directory.\n",
            "/content/outfit\n",
            "Requirement already satisfied: peewee>=3.9.6 in /usr/local/lib/python3.6/dist-packages (from -r requirements.txt (line 1)) (3.9.6)\n",
            "Requirement already satisfied: pandas>=0.24.2 in /usr/local/lib/python3.6/dist-packages (from -r requirements.txt (line 2)) (0.24.2)\n",
            "Requirement already satisfied: tabula>=0.8.3 in /usr/local/lib/python3.6/dist-packages (from -r requirements.txt (line 3)) (1.0.5)\n",
            "Requirement already satisfied: pytz>=2011k in /usr/local/lib/python3.6/dist-packages (from pandas>=0.24.2->-r requirements.txt (line 2)) (2018.9)\n",
            "Requirement already satisfied: numpy>=1.12.0 in /usr/local/lib/python3.6/dist-packages (from pandas>=0.24.2->-r requirements.txt (line 2)) (1.16.4)\n",
            "Requirement already satisfied: python-dateutil>=2.5.0 in /usr/local/lib/python3.6/dist-packages (from pandas>=0.24.2->-r requirements.txt (line 2)) (2.5.3)\n",
            "Requirement already satisfied: setuptools in /usr/local/lib/python3.6/dist-packages (from tabula>=0.8.3->-r requirements.txt (line 3)) (41.0.1)\n",
            "Requirement already satisfied: six>=1.5 in /usr/local/lib/python3.6/dist-packages (from python-dateutil>=2.5.0->pandas>=0.24.2->-r requirements.txt (line 2)) (1.12.0)\n",
            "Obtaining file:///content/outfit\n",
            "Installing collected packages: outfit\n",
            "  Found existing installation: outfit 0.1\n",
            "    Can't uninstall 'outfit'. No files were found to uninstall.\n",
            "  Running setup.py develop for outfit\n",
            "Successfully installed outfit\n",
            "/content\n"
          ],
          "name": "stdout"
        }
      ]
    },
    {
      "cell_type": "markdown",
      "metadata": {
        "id": "uMSB9t0_gf8U",
        "colab_type": "text"
      },
      "source": [
        "# **Google collab bug : You must restart your environment so that it will be able to import the library**\n",
        "\n",
        "\n",
        "**Keyboard shortcut**   : `Ctrl + M`"
      ]
    },
    {
      "cell_type": "markdown",
      "metadata": {
        "id": "o5GA-5EChYbu",
        "colab_type": "text"
      },
      "source": [
        "\n",
        "\n",
        "\n",
        "`Wardrobe` is a class that allows you to tidy up your experimentation.\n",
        "\n",
        "`getlog` is function decorator that allow you writes all console prints of the decorated function to a file.\n",
        "\n",
        "`Logger`  allowing to display on the console and write a message in a file.\n",
        "\n",
        "\n"
      ]
    },
    {
      "cell_type": "code",
      "metadata": {
        "id": "iqA7TdGGXm3S",
        "colab_type": "code",
        "colab": {}
      },
      "source": [
        "from outfit import Wardrobe, getlog, Logger"
      ],
      "execution_count": 0,
      "outputs": []
    },
    {
      "cell_type": "markdown",
      "metadata": {
        "id": "_5dfXWS2iKb3",
        "colab_type": "text"
      },
      "source": [
        "**Data importation** :"
      ]
    },
    {
      "cell_type": "code",
      "metadata": {
        "id": "ZvSe8f3XiShK",
        "colab_type": "code",
        "colab": {}
      },
      "source": [
        "# This is the dictionary where we will store the parameters.\n",
        "param = {'batch_size': 128}"
      ],
      "execution_count": 0,
      "outputs": []
    },
    {
      "cell_type": "code",
      "metadata": {
        "id": "FZyaKrQRNWKR",
        "colab_type": "code",
        "outputId": "94af9922-d305-4b04-de46-3e5c62112785",
        "colab": {
          "base_uri": "https://localhost:8080/",
          "height": 255
        }
      },
      "source": [
        "train_dataset = datasets.MNIST('./data', \n",
        "                               train=True, \n",
        "                               download=True, \n",
        "                               transform=transforms.Compose([\n",
        "                       transforms.ToTensor(),\n",
        "                       transforms.Normalize((0.1307,), (0.3081,))\n",
        "                   ]))\n",
        "\n",
        "validation_dataset = datasets.MNIST('./data', \n",
        "                                    train=False, \n",
        "                                    transform=transforms.Compose([\n",
        "                       transforms.ToTensor(),\n",
        "                       transforms.Normalize((0.1307,), (0.3081,))\n",
        "                   ]))\n",
        "\n",
        "train_loader = torch.utils.data.DataLoader(dataset=train_dataset, \n",
        "                                           batch_size=param['batch_size'], \n",
        "                                           shuffle=True)\n",
        "\n",
        "validation_loader = torch.utils.data.DataLoader(dataset=validation_dataset, \n",
        "                                                batch_size=param['batch_size'], \n",
        "                                                shuffle=False)"
      ],
      "execution_count": 8,
      "outputs": [
        {
          "output_type": "stream",
          "text": [
            "\r0it [00:00, ?it/s]"
          ],
          "name": "stderr"
        },
        {
          "output_type": "stream",
          "text": [
            "Downloading http://yann.lecun.com/exdb/mnist/train-images-idx3-ubyte.gz to ./data/MNIST/raw/train-images-idx3-ubyte.gz\n"
          ],
          "name": "stdout"
        },
        {
          "output_type": "stream",
          "text": [
            "9920512it [00:02, 3365119.86it/s]                             \n"
          ],
          "name": "stderr"
        },
        {
          "output_type": "stream",
          "text": [
            "Extracting ./data/MNIST/raw/train-images-idx3-ubyte.gz\n"
          ],
          "name": "stdout"
        },
        {
          "output_type": "stream",
          "text": [
            "\r0it [00:00, ?it/s]"
          ],
          "name": "stderr"
        },
        {
          "output_type": "stream",
          "text": [
            "Downloading http://yann.lecun.com/exdb/mnist/train-labels-idx1-ubyte.gz to ./data/MNIST/raw/train-labels-idx1-ubyte.gz\n"
          ],
          "name": "stdout"
        },
        {
          "output_type": "stream",
          "text": [
            "32768it [00:00, 58445.79it/s]                           \n",
            "0it [00:00, ?it/s]"
          ],
          "name": "stderr"
        },
        {
          "output_type": "stream",
          "text": [
            "Extracting ./data/MNIST/raw/train-labels-idx1-ubyte.gz\n",
            "Downloading http://yann.lecun.com/exdb/mnist/t10k-images-idx3-ubyte.gz to ./data/MNIST/raw/t10k-images-idx3-ubyte.gz\n"
          ],
          "name": "stdout"
        },
        {
          "output_type": "stream",
          "text": [
            "1654784it [00:01, 864499.40it/s]                             \n",
            "0it [00:00, ?it/s]"
          ],
          "name": "stderr"
        },
        {
          "output_type": "stream",
          "text": [
            "Extracting ./data/MNIST/raw/t10k-images-idx3-ubyte.gz\n",
            "Downloading http://yann.lecun.com/exdb/mnist/t10k-labels-idx1-ubyte.gz to ./data/MNIST/raw/t10k-labels-idx1-ubyte.gz\n"
          ],
          "name": "stdout"
        },
        {
          "output_type": "stream",
          "text": [
            "8192it [00:00, 21692.99it/s]            "
          ],
          "name": "stderr"
        },
        {
          "output_type": "stream",
          "text": [
            "Extracting ./data/MNIST/raw/t10k-labels-idx1-ubyte.gz\n",
            "Processing...\n",
            "Done!\n"
          ],
          "name": "stdout"
        },
        {
          "output_type": "stream",
          "text": [
            "\n"
          ],
          "name": "stderr"
        }
      ]
    },
    {
      "cell_type": "markdown",
      "metadata": {
        "id": "C2tJG2cuiqpo",
        "colab_type": "text"
      },
      "source": [
        "**Database initialisation** :\n",
        "\n",
        "You can specify a path if the file does not exist it will create it and initialize the database. \n",
        "\n",
        "For this tutorial we use: memory: to store it in RAM memory."
      ]
    },
    {
      "cell_type": "code",
      "metadata": {
        "id": "3By1Ck2bYVno",
        "colab_type": "code",
        "colab": {}
      },
      "source": [
        "wardrobe = Wardrobe(db_path=':memory:')"
      ],
      "execution_count": 0,
      "outputs": []
    },
    {
      "cell_type": "markdown",
      "metadata": {
        "id": "brm0PflpjIRH",
        "colab_type": "text"
      },
      "source": [
        "Adding experimentation, it is NECESSARY to declare the experimentation first before the parameters, outputs, features or scores."
      ]
    },
    {
      "cell_type": "code",
      "metadata": {
        "id": "mwcyBgxufWVN",
        "colab_type": "code",
        "colab": {}
      },
      "source": [
        "exp = {\n",
        "    'experiment_name': 'Hello world',\n",
        "    'comment': 'Using a simple cnn on MNIST',\n",
        "    'date_experiment': datetime.datetime.now()\n",
        "}\n",
        "\n",
        "wardrobe.add_experiment(**exp)"
      ],
      "execution_count": 0,
      "outputs": []
    },
    {
      "cell_type": "markdown",
      "metadata": {
        "id": "0_dGaQVUjrJV",
        "colab_type": "text"
      },
      "source": [
        "**Model declaration** :"
      ]
    },
    {
      "cell_type": "code",
      "metadata": {
        "id": "F4IBXtT-Ntff",
        "colab_type": "code",
        "colab": {}
      },
      "source": [
        "class SimpleNet(nn.Module):\n",
        "\n",
        "    def __init__(self, dropout_proba, **kwargs):\n",
        "        super(SimpleNet, self).__init__()\n",
        "        \n",
        "        self.conv1 = nn.Conv2d(1, 16, kernel_size=3, padding=1)\n",
        "        self.conv2 = nn.Conv2d(16, 32, kernel_size=3, padding =1)\n",
        "        \n",
        "        self.dropout = nn.Dropout2d(p=dropout_proba)\n",
        "    \n",
        "        self.linear1 = nn.Linear(1568, 64)\n",
        "        self.linear2 = nn.Linear(64, 10)\n",
        "\n",
        "    def forward(self, x):\n",
        "\n",
        "        x = self.conv1(x)\n",
        "        x = F.max_pool2d(x, 2)\n",
        "        x = F.relu(x)\n",
        "        \n",
        "        x = self.conv2(x)\n",
        "        x = F.max_pool2d(x, 2)\n",
        "        x = F.relu(x)\n",
        "       \n",
        "        x = x.view(x.size(0), -1)\n",
        "\n",
        "        x = self.linear1(x)\n",
        "        x = F.relu(x)\n",
        "        x = self.dropout(x)\n",
        "        \n",
        "        x = self.linear2(x)\n",
        "        x = F.log_softmax(x, dim=1)\n",
        "        return x"
      ],
      "execution_count": 0,
      "outputs": []
    },
    {
      "cell_type": "code",
      "metadata": {
        "id": "tQJHWUDHRF9b",
        "colab_type": "code",
        "colab": {}
      },
      "source": [
        "loss = nn.CrossEntropyLoss()"
      ],
      "execution_count": 0,
      "outputs": []
    },
    {
      "cell_type": "markdown",
      "metadata": {
        "id": "X9kVeEo_jwbx",
        "colab_type": "text"
      },
      "source": [
        "Update the parameters"
      ]
    },
    {
      "cell_type": "code",
      "metadata": {
        "id": "jIVzOmL5jxDs",
        "colab_type": "code",
        "colab": {}
      },
      "source": [
        "param_model = {'dropout_proba': 0.2}\n",
        "param.update(param_model)"
      ],
      "execution_count": 0,
      "outputs": []
    },
    {
      "cell_type": "markdown",
      "metadata": {
        "id": "drMoZS4AkABE",
        "colab_type": "text"
      },
      "source": [
        "With the help of the getlog function decorator we then recover to write in a file all the prints on the terminal "
      ]
    },
    {
      "cell_type": "code",
      "metadata": {
        "id": "na1VPCLZXNw0",
        "colab_type": "code",
        "colab": {}
      },
      "source": [
        "output = {'training log': 'training_log.txt'}"
      ],
      "execution_count": 0,
      "outputs": []
    },
    {
      "cell_type": "code",
      "metadata": {
        "id": "giqy0Yz-QS39",
        "colab_type": "code",
        "colab": {}
      },
      "source": [
        "@getlog(filepath=output['training log'])\n",
        "def train(model, loss_function,loaders, optimizer, device,max_epoch):\n",
        "\n",
        "    dataset_sizes = {'train': len(loaders['train'].dataset),\n",
        "                 'valid': len(loaders['valid'].dataset)}\n",
        "    \n",
        "    metrics = {\n",
        "               'train loss': [],\n",
        "               'train acc': [],\n",
        "               'valid loss': [],\n",
        "               'valid acc': []\n",
        "              }\n",
        "    for epoch in range(1, max_epoch + 1):\n",
        "        print(\"-\"* 40)\n",
        "        print(\" \\n Epoch {}/{} \\n\".format(epoch, max_epoch))\n",
        "        \n",
        "        for phase in ['train', 'valid']:\n",
        "\n",
        "            running_loss = 0.0\n",
        "            running_corrects = 0\n",
        "            for batch_idx, (data, target) in enumerate(loaders[phase]):\n",
        "\n",
        "                data, target = data.to(device), target.to(device)\n",
        "                \n",
        "                data, target = Variable(data), Variable(target)\n",
        "\n",
        "                optimizer.zero_grad()\n",
        "\n",
        "                with torch.set_grad_enabled(phase == 'train'):\n",
        "                    output = model(data)\n",
        "                    loss = loss_function(output, target)\n",
        "                    _, predicted = torch.max(output.data, 1)\n",
        "\n",
        "                if phase == 'train':\n",
        "                    loss.backward()\n",
        "\n",
        "                    optimizer.step()\n",
        "\n",
        "\n",
        "                running_loss += loss.item() * data.size(0)\n",
        "\n",
        "                running_corrects += (predicted == target).sum().item()\n",
        "            \n",
        "            epoch_loss = running_loss / dataset_sizes[phase]\n",
        "            epoch_accuracy = running_corrects / dataset_sizes[phase]\n",
        "            print('{} : Loss: {:.4f} and Accuracy : {:.4f}'.format(phase, epoch_loss, epoch_accuracy))\n",
        "            \n",
        "            \n",
        "            metrics['{} loss'.format(phase)].append(epoch_loss)\n",
        "            metrics['{} acc'.format(phase)].append(epoch_accuracy)\n",
        "    \n",
        "        \n",
        "    return model , metrics"
      ],
      "execution_count": 0,
      "outputs": []
    },
    {
      "cell_type": "code",
      "metadata": {
        "id": "whX8S7JGXrjT",
        "colab_type": "code",
        "colab": {}
      },
      "source": [
        "dloaders = {'train':train_loader, 'valid':validation_loader}"
      ],
      "execution_count": 0,
      "outputs": []
    },
    {
      "cell_type": "code",
      "metadata": {
        "id": "akQy60cGQ_Mu",
        "colab_type": "code",
        "colab": {}
      },
      "source": [
        "model = SimpleNet(**param_model)\n",
        "\n",
        "model.to(device)\n",
        "\n",
        "optimizer = optim.SGD(model.parameters(), lr=0.001, momentum= 0.9)\n"
      ],
      "execution_count": 0,
      "outputs": []
    },
    {
      "cell_type": "code",
      "metadata": {
        "id": "lbzImU4WkaMP",
        "colab_type": "code",
        "colab": {}
      },
      "source": [
        "param.update({'loss':'Cross Entropy',\n",
        "              'learning rate': 0.001 ,\n",
        "              'Optimizer':'SGD',\n",
        "              'momentum': 0.9,\n",
        "              'max epoch': 5\n",
        "             })"
      ],
      "execution_count": 0,
      "outputs": []
    },
    {
      "cell_type": "markdown",
      "metadata": {
        "id": "P48JOjldkkou",
        "colab_type": "text"
      },
      "source": [
        "We will get the model summary in a file."
      ]
    },
    {
      "cell_type": "code",
      "metadata": {
        "id": "r0ebFleCKhQ2",
        "colab_type": "code",
        "outputId": "86ede7aa-dfa4-40d4-80e1-c98b1ffdb8a7",
        "colab": {
          "base_uri": "https://localhost:8080/",
          "height": 323
        }
      },
      "source": [
        "output.update({'model summary': 'summary.txt'})\n",
        "\n",
        "sys.stdout = Logger(filepath=output['model summary'])\n",
        "\n",
        "summary(model, input_size=(1, 28, 28))\n",
        "\n",
        "sys.stdout.logfile.close()\n",
        "sys.stdout = sys.stdout.terminal\n"
      ],
      "execution_count": 23,
      "outputs": [
        {
          "output_type": "stream",
          "text": [
            "----------------------------------------------------------------\n",
            "        Layer (type)               Output Shape         Param #\n",
            "================================================================\n",
            "            Conv2d-1           [-1, 16, 28, 28]             160\n",
            "            Conv2d-2           [-1, 32, 14, 14]           4,640\n",
            "            Linear-3                   [-1, 64]         100,416\n",
            "         Dropout2d-4                   [-1, 64]               0\n",
            "            Linear-5                   [-1, 10]             650\n",
            "================================================================\n",
            "Total params: 105,866\n",
            "Trainable params: 105,866\n",
            "Non-trainable params: 0\n",
            "----------------------------------------------------------------\n",
            "Input size (MB): 0.00\n",
            "Forward/backward pass size (MB): 0.14\n",
            "Params size (MB): 0.40\n",
            "Estimated Total Size (MB): 0.55\n",
            "----------------------------------------------------------------\n"
          ],
          "name": "stdout"
        }
      ]
    },
    {
      "cell_type": "code",
      "metadata": {
        "id": "bOciHvqZR01b",
        "colab_type": "code",
        "outputId": "674bbdc6-c6ee-4948-ab31-c35eb8dc3366",
        "colab": {
          "base_uri": "https://localhost:8080/",
          "height": 527
        }
      },
      "source": [
        "trained_model, metrics = train(model, loss, dloaders, optimizer, device, param['max epoch'])"
      ],
      "execution_count": 19,
      "outputs": [
        {
          "output_type": "stream",
          "text": [
            "----------------------------------------\n",
            " \n",
            " Epoch 1/5 \n",
            "\n",
            "train : Loss: 1.1247 and Accuracy : 0.6660\n",
            "valid : Loss: 0.3924 and Accuracy : 0.8817\n",
            "----------------------------------------\n",
            " \n",
            " Epoch 2/5 \n",
            "\n",
            "train : Loss: 0.3270 and Accuracy : 0.9010\n",
            "valid : Loss: 0.2477 and Accuracy : 0.9273\n",
            "----------------------------------------\n",
            " \n",
            " Epoch 3/5 \n",
            "\n",
            "train : Loss: 0.2352 and Accuracy : 0.9284\n",
            "valid : Loss: 0.1881 and Accuracy : 0.9434\n",
            "----------------------------------------\n",
            " \n",
            " Epoch 4/5 \n",
            "\n",
            "train : Loss: 0.1905 and Accuracy : 0.9432\n",
            "valid : Loss: 0.1615 and Accuracy : 0.9507\n",
            "----------------------------------------\n",
            " \n",
            " Epoch 5/5 \n",
            "\n",
            "train : Loss: 0.1602 and Accuracy : 0.9524\n",
            "valid : Loss: 0.1481 and Accuracy : 0.9549\n"
          ],
          "name": "stdout"
        }
      ]
    },
    {
      "cell_type": "markdown",
      "metadata": {
        "id": "v-eADIrhkwd7",
        "colab_type": "text"
      },
      "source": [
        "We insert it all into the database.\n"
      ]
    },
    {
      "cell_type": "code",
      "metadata": {
        "id": "7aluGP_AZq1a",
        "colab_type": "code",
        "colab": {}
      },
      "source": [
        "score = {key: val[-1] for key,val in metrics.items()} # get the last value\n",
        "wardrobe.add_dict_score(score)"
      ],
      "execution_count": 0,
      "outputs": []
    },
    {
      "cell_type": "code",
      "metadata": {
        "id": "L5e1jvVaab2c",
        "colab_type": "code",
        "colab": {}
      },
      "source": [
        "wardrobe.add_dict_output(output)\n"
      ],
      "execution_count": 0,
      "outputs": []
    },
    {
      "cell_type": "code",
      "metadata": {
        "id": "88RMYcOVa9fb",
        "colab_type": "code",
        "colab": {}
      },
      "source": [
        "wardrobe.add_dict_parameter(param)"
      ],
      "execution_count": 0,
      "outputs": []
    },
    {
      "cell_type": "code",
      "metadata": {
        "id": "ZIw1qJ2SbF2C",
        "colab_type": "code",
        "colab": {}
      },
      "source": [
        "wardrobe.tidy() # commit in database"
      ],
      "execution_count": 0,
      "outputs": []
    },
    {
      "cell_type": "markdown",
      "metadata": {
        "id": "8OTziq3WlErp",
        "colab_type": "text"
      },
      "source": [
        "Let's now look at the result. \n",
        "We use the `get_best_scores` method to see the best experimentation according to a criterion.\n",
        "As there is only one experimentation in the tutorial, the generator returns only one experimentation.\n",
        "\n",
        "If you iterate several times you will be able to see what your best experimentation is in a simple way.\n",
        "\n"
      ]
    },
    {
      "cell_type": "code",
      "metadata": {
        "id": "mK2ZvqYFbKOw",
        "colab_type": "code",
        "colab": {
          "base_uri": "https://localhost:8080/",
          "height": 1000
        },
        "outputId": "e2f5ad5d-e421-4961-97ba-02bd6f031a3f"
      },
      "source": [
        "for exp in wardrobe.get_best_scores(mode='max',on_score='valid acc'):\n",
        "    _ = exp "
      ],
      "execution_count": 33,
      "outputs": [
        {
          "output_type": "stream",
          "text": [
            "════════════════════\n",
            "│ TOP 1 EXPERIMENT │\n",
            "════════════════════\n",
            "\n",
            "\n",
            "\n",
            "Table : Experiment \n",
            "\n",
            "╒════╤═════════════════╤═══════════════════╤═════════════════════════════╤════════════════════╕\n",
            "│    │   id_experiment │ experiment_name   │ comment                     │ date_experiement   │\n",
            "╞════╪═════════════════╪═══════════════════╪═════════════════════════════╪════════════════════╡\n",
            "│  0 │               1 │ Hello world       │ Using a simple cnn on MNIST │                    │\n",
            "╘════╧═════════════════╧═══════════════════╧═════════════════════════════╧════════════════════╛\n",
            "\n",
            "\n",
            "Table : Parameter \n",
            "\n",
            "╒════╤════════════════╤══════════════════╤═══════════════╤══════════════╕\n",
            "│    │   id_parameter │ parameter_name   │ parameter     │   experiment │\n",
            "╞════╪════════════════╪══════════════════╪═══════════════╪══════════════╡\n",
            "│  0 │              1 │ batch_size       │ 128           │            1 │\n",
            "├────┼────────────────┼──────────────────┼───────────────┼──────────────┤\n",
            "│  1 │              2 │ dropout_proba    │ 0.2           │            1 │\n",
            "├────┼────────────────┼──────────────────┼───────────────┼──────────────┤\n",
            "│  2 │              3 │ loss             │ Cross Entropy │            1 │\n",
            "├────┼────────────────┼──────────────────┼───────────────┼──────────────┤\n",
            "│  3 │              4 │ learning rate    │ 0.001         │            1 │\n",
            "├────┼────────────────┼──────────────────┼───────────────┼──────────────┤\n",
            "│  4 │              5 │ Optimizer        │ SGD           │            1 │\n",
            "├────┼────────────────┼──────────────────┼───────────────┼──────────────┤\n",
            "│  5 │              6 │ momentum         │ 0.9           │            1 │\n",
            "├────┼────────────────┼──────────────────┼───────────────┼──────────────┤\n",
            "│  6 │              7 │ max epoch        │ 5             │            1 │\n",
            "╘════╧════════════════╧══════════════════╧═══════════════╧══════════════╛\n",
            "\n",
            "\n",
            "Table : Output \n",
            "\n",
            "╒════╤═════════════╤═══════════════╤══════════════════╤══════════════╕\n",
            "│    │   id_output │ type_output   │ path_output      │   experiment │\n",
            "╞════╪═════════════╪═══════════════╪══════════════════╪══════════════╡\n",
            "│  0 │           1 │ training log  │ training_log.txt │            1 │\n",
            "╘════╧═════════════╧═══════════════╧══════════════════╧══════════════╛\n",
            "\n",
            "\n",
            "Table : Score \n",
            "\n",
            "╒════╤════════════╤══════════════╤══════════╤══════════════╕\n",
            "│    │   id_score │ type_score   │    score │   experiment │\n",
            "╞════╪════════════╪══════════════╪══════════╪══════════════╡\n",
            "│  0 │          1 │ train loss   │ 0.151453 │            1 │\n",
            "├────┼────────────┼──────────────┼──────────┼──────────────┤\n",
            "│  1 │          2 │ train acc    │ 0.95315  │            1 │\n",
            "├────┼────────────┼──────────────┼──────────┼──────────────┤\n",
            "│  2 │          3 │ valid loss   │ 0.127849 │            1 │\n",
            "├────┼────────────┼──────────────┼──────────┼──────────────┤\n",
            "│  3 │          4 │ valid acc    │ 0.9615   │            1 │\n",
            "╘════╧════════════╧══════════════╧══════════╧══════════════╛\n",
            "\n",
            "\n",
            "Table : Feature \n",
            "\n",
            "\n",
            "\n",
            "\n"
          ],
          "name": "stdout"
        }
      ]
    },
    {
      "cell_type": "code",
      "metadata": {
        "id": "lcOwMAlxLeRs",
        "colab_type": "code",
        "colab": {}
      },
      "source": [
        ""
      ],
      "execution_count": 0,
      "outputs": []
    }
  ]
}